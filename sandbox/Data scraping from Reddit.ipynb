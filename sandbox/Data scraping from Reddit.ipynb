{
 "cells": [
  {
   "cell_type": "code",
   "execution_count": 20,
   "metadata": {},
   "outputs": [
    {
     "name": "stdout",
     "output_type": "stream",
     "text": [
      "Requirement already satisfied: praw in /Users/dan/anaconda/lib/python3.5/site-packages\n",
      "Requirement already satisfied: update-checker>=0.16 in /Users/dan/anaconda/lib/python3.5/site-packages (from praw)\n",
      "Requirement already satisfied: prawcore<0.13,>=0.12.0 in /Users/dan/anaconda/lib/python3.5/site-packages (from praw)\n",
      "Requirement already satisfied: requests>=2.3.0 in /Users/dan/anaconda/lib/python3.5/site-packages (from update-checker>=0.16->praw)\n"
     ]
    }
   ],
   "source": [
    "!pip3 install praw"
   ]
  },
  {
   "cell_type": "code",
   "execution_count": 52,
   "metadata": {
    "scrolled": true
   },
   "outputs": [
    {
     "name": "stdout",
     "output_type": "stream",
     "text": [
      "https://www.reddit.com/api/v1/authorize?client_id=TyAK1zSuAvQjmA&redirect_uri=http%3A%2F%2Flocalhost%3A8080&duration=permanent&response_type=code&scope=identity&state=...\n"
     ]
    }
   ],
   "source": [
    "import praw\n",
    "import pprint\n",
    "\n",
    "reddit = praw.Reddit(user_agent='web:first_scrape:0.0 (by /u/dswald)',\n",
    "                     client_id='TyAK1zSuAvQjmA', \n",
    "                     client_secret=\"uxHGsL0zNODbowN6umVnBWpqLAQ\",\n",
    "                     redirect_uri='http://localhost:8080')\n",
    "\n",
    "print(reddit.auth.url(['identity'], '...', 'permanent'))"
   ]
  },
  {
   "cell_type": "code",
   "execution_count": 30,
   "metadata": {
    "collapsed": true
   },
   "outputs": [],
   "source": [
    "import praw\n",
    "import pprint\n",
    "\n",
    "#this is a read-only instance\n",
    "reddit = praw.Reddit(user_agent='first_scrape (by /u/dswald)',\n",
    "                     client_id='TyAK1zSuAvQjmA', \n",
    "                     client_secret=\"uxHGsL0zNODbowN6umVnBWpqLAQ\")\n",
    "\n",
    "\n",
    "print(reddit.read_only)  # Output: True"
   ]
  },
  {
   "cell_type": "code",
   "execution_count": 34,
   "metadata": {},
   "outputs": [
    {
     "name": "stdout",
     "output_type": "stream",
     "text": [
      "Ask Anything Monday - Weekly Thread\n",
      "Any good tutorials to learn tensorflow together with the basic/intermediate part of neural networks?\n",
      "How can I take a simple Python script that I wrote and turn it into an executable that will run every 30 min?\n",
      "Python Decoder Challenge (for Beginners)\n",
      "PyQT5 guide for beginners?\n",
      "Preparing for edx 6.00.1x midterm: Help with my code, commenting, etc.\n",
      "Online Python Interpreter\n",
      "Regex Help\n",
      "Tweepy Streaming Issues\n",
      "Handling exceptions in python\n"
     ]
    }
   ],
   "source": [
    "# continued from code above\n",
    "\n",
    "for submission in reddit.subreddit('learnpython').hot(limit=10):\n",
    "    print(submission.title)\n",
    "\n",
    "# Output: 10 submission"
   ]
  },
  {
   "cell_type": "code",
   "execution_count": 37,
   "metadata": {},
   "outputs": [
    {
     "name": "stdout",
     "output_type": "stream",
     "text": [
      "[]\n"
     ]
    }
   ],
   "source": [
    "top_level_comments = list(submission.comments)\n",
    "all_comments = submission.comments.list()\n",
    "print (all_comments)"
   ]
  },
  {
   "cell_type": "code",
   "execution_count": 61,
   "metadata": {
    "collapsed": true
   },
   "outputs": [],
   "source": [
    "# assume you have a Reddit instance bound to variable `reddit`\n",
    "submission = reddit.submission(id='75bi8h')\n",
    "submission.comment_sort = 'new'\n",
    "top_level_comments = list(submission.comments)"
   ]
  },
  {
   "cell_type": "code",
   "execution_count": 62,
   "metadata": {},
   "outputs": [
    {
     "name": "stdout",
     "output_type": "stream",
     "text": [
      "[Comment(id='do5jtzn'), Comment(id='do5jb7e'), Comment(id='do55ql8'), Comment(id='do53179'), Comment(id='do52gqb'), Comment(id='do526ni'), Comment(id='do51cj3'), Comment(id='do4zinx'), Comment(id='do4z1gt'), Comment(id='do4ysuf'), Comment(id='do4xu3a'), Comment(id='do4xhih'), Comment(id='do4wynb'), Comment(id='do4wpk5'), Comment(id='do4w3sm'), Comment(id='do4w2lj'), Comment(id='do4w1wj'), Comment(id='do4vifs'), Comment(id='do4vcg5'), Comment(id='do4urm4')]\n"
     ]
    }
   ],
   "source": [
    "print (top_level_comments)"
   ]
  },
  {
   "cell_type": "code",
   "execution_count": 66,
   "metadata": {},
   "outputs": [
    {
     "name": "stdout",
     "output_type": "stream",
     "text": [
      "PSA: It is legal for bicyclist to ride down burnside, hawthorne, division and sandy.\n",
      "{'_comments': <praw.models.comment_forest.CommentForest object at 0x105d00ac8>,\n",
      " '_comments_by_id': {'t1_do4urm4': Comment(id='do4urm4'),\n",
      "                     't1_do4vcg5': Comment(id='do4vcg5'),\n",
      "                     't1_do4vifs': Comment(id='do4vifs'),\n",
      "                     't1_do4w1wj': Comment(id='do4w1wj'),\n",
      "                     't1_do4w2lj': Comment(id='do4w2lj'),\n",
      "                     't1_do4w3sm': Comment(id='do4w3sm'),\n",
      "                     't1_do4woma': Comment(id='do4woma'),\n",
      "                     't1_do4wpk5': Comment(id='do4wpk5'),\n",
      "                     't1_do4wynb': Comment(id='do4wynb'),\n",
      "                     't1_do4x3pc': Comment(id='do4x3pc'),\n",
      "                     't1_do4xhih': Comment(id='do4xhih'),\n",
      "                     't1_do4xqhb': Comment(id='do4xqhb'),\n",
      "                     't1_do4xu3a': Comment(id='do4xu3a'),\n",
      "                     't1_do4xubf': Comment(id='do4xubf'),\n",
      "                     't1_do4xzb3': Comment(id='do4xzb3'),\n",
      "                     't1_do4y33x': Comment(id='do4y33x'),\n",
      "                     't1_do4y7ln': Comment(id='do4y7ln'),\n",
      "                     't1_do4ysuf': Comment(id='do4ysuf'),\n",
      "                     't1_do4z1gt': Comment(id='do4z1gt'),\n",
      "                     't1_do4zgn4': Comment(id='do4zgn4'),\n",
      "                     't1_do4zinx': Comment(id='do4zinx'),\n",
      "                     't1_do5063o': Comment(id='do5063o'),\n",
      "                     't1_do50suz': Comment(id='do50suz'),\n",
      "                     't1_do51cj3': Comment(id='do51cj3'),\n",
      "                     't1_do51uc7': Comment(id='do51uc7'),\n",
      "                     't1_do526ni': Comment(id='do526ni'),\n",
      "                     't1_do527p6': Comment(id='do527p6'),\n",
      "                     't1_do52gqb': Comment(id='do52gqb'),\n",
      "                     't1_do53179': Comment(id='do53179'),\n",
      "                     't1_do53csl': Comment(id='do53csl'),\n",
      "                     't1_do53djd': Comment(id='do53djd'),\n",
      "                     't1_do55ql8': Comment(id='do55ql8'),\n",
      "                     't1_do596tu': Comment(id='do596tu'),\n",
      "                     't1_do598ca': Comment(id='do598ca'),\n",
      "                     't1_do599tp': Comment(id='do599tp'),\n",
      "                     't1_do59awt': Comment(id='do59awt'),\n",
      "                     't1_do59d5m': Comment(id='do59d5m'),\n",
      "                     't1_do5aqfy': Comment(id='do5aqfy'),\n",
      "                     't1_do5d7l6': Comment(id='do5d7l6'),\n",
      "                     't1_do5jb7e': Comment(id='do5jb7e'),\n",
      "                     't1_do5jtzn': Comment(id='do5jtzn')},\n",
      " '_fetched': True,\n",
      " '_flair': None,\n",
      " '_info_params': {},\n",
      " '_mod': None,\n",
      " '_reddit': <praw.reddit.Reddit object at 0x105ca2a90>,\n",
      " 'approved_at_utc': None,\n",
      " 'approved_by': None,\n",
      " 'archived': False,\n",
      " 'author': Redditor(name='BikeTheftVictim'),\n",
      " 'author_flair_css_class': None,\n",
      " 'author_flair_text': 'Honored Citizen',\n",
      " 'banned_at_utc': None,\n",
      " 'banned_by': None,\n",
      " 'brand_safe': True,\n",
      " 'can_gild': False,\n",
      " 'can_mod_post': False,\n",
      " 'clicked': False,\n",
      " 'comment_limit': 2048,\n",
      " 'comment_sort': 'best',\n",
      " 'contest_mode': False,\n",
      " 'created': 1507606050.0,\n",
      " 'created_utc': 1507577250.0,\n",
      " 'distinguished': None,\n",
      " 'domain': 'self.Portland',\n",
      " 'downs': 0,\n",
      " 'edited': False,\n",
      " 'gilded': 0,\n",
      " 'hidden': False,\n",
      " 'hide_score': False,\n",
      " 'id': '75bi8h',\n",
      " 'is_crosspostable': False,\n",
      " 'is_reddit_media_domain': False,\n",
      " 'is_self': True,\n",
      " 'is_video': False,\n",
      " 'likes': None,\n",
      " 'link_flair_css_class': None,\n",
      " 'link_flair_text': None,\n",
      " 'locked': False,\n",
      " 'media': None,\n",
      " 'media_embed': {},\n",
      " 'mod_reports': [],\n",
      " 'name': 't3_75bi8h',\n",
      " 'num_comments': 41,\n",
      " 'num_crossposts': 0,\n",
      " 'num_reports': None,\n",
      " 'over_18': False,\n",
      " 'parent_whitelist_status': 'all_ads',\n",
      " 'permalink': '/r/Portland/comments/75bi8h/psa_it_is_legal_for_bicyclist_to_ride_down/',\n",
      " 'pinned': False,\n",
      " 'quarantine': False,\n",
      " 'removal_reason': None,\n",
      " 'report_reasons': None,\n",
      " 'saved': False,\n",
      " 'score': 0,\n",
      " 'secure_media': None,\n",
      " 'secure_media_embed': {},\n",
      " 'selftext': 'Despite what /u/vulture_cabaret thinks.',\n",
      " 'selftext_html': '<!-- SC_OFF --><div class=\"md\"><p>Despite what <a '\n",
      "                  'href=\"/u/vulture_cabaret\">/u/vulture_cabaret</a> '\n",
      "                  'thinks.</p>\\n'\n",
      "                  '</div><!-- SC_ON -->',\n",
      " 'spoiler': False,\n",
      " 'stickied': False,\n",
      " 'subreddit': Subreddit(display_name='Portland'),\n",
      " 'subreddit_id': 't5_2qi2i',\n",
      " 'subreddit_name_prefixed': 'r/Portland',\n",
      " 'subreddit_type': 'public',\n",
      " 'suggested_sort': None,\n",
      " 'thumbnail': 'self',\n",
      " 'thumbnail_height': None,\n",
      " 'thumbnail_width': None,\n",
      " 'title': 'PSA: It is legal for bicyclist to ride down burnside, hawthorne, '\n",
      "          'division and sandy.',\n",
      " 'ups': 0,\n",
      " 'upvote_ratio': 0.49,\n",
      " 'url': 'https://www.reddit.com/r/Portland/comments/75bi8h/psa_it_is_legal_for_bicyclist_to_ride_down/',\n",
      " 'user_reports': [],\n",
      " 'view_count': None,\n",
      " 'visited': False,\n",
      " 'whitelist_status': 'all_ads'}\n"
     ]
    }
   ],
   "source": [
    "# assume you have a Reddit instance bound to variable `reddit`\n",
    "submission = reddit.submission(id='75bi8h')\n",
    "#submission = reddit.submission(url = 'https://www.reddit.com/r/Portland/comments/75bi8h/psa_it_is_legal_for_bicyclist_to_ride_down/?st=j8l4973c&sh=cab7a014')\n",
    "print(submission.title) # to make it non-lazy\n",
    "pprint.pprint(vars(submission))"
   ]
  },
  {
   "cell_type": "code",
   "execution_count": 70,
   "metadata": {},
   "outputs": [
    {
     "name": "stdout",
     "output_type": "stream",
     "text": [
      "[\"I'm a cyclist who's been hit by two cars, both on smaller residential streets. This is legal but it isn't the safest. Figure out your own level of risk tolerance. \", 'Posts calling out specific users are so tacky. ', 'PSA: something being legal doesn’t make it safe.', 'In my experience the bicycle highways that are a few blocks off of those roads are more fun. I like being with the other bicyclists, and not being a general dickhead about where and how I ride. ', 'Would you rather be right or happy?']\n"
     ]
    }
   ],
   "source": [
    "import praw\n",
    "\n",
    "#this is a read-only instance\n",
    "reddit = praw.Reddit(user_agent='first_scrape (by /u/dswald)',\n",
    "                     client_id='TyAK1zSuAvQjmA', \n",
    "                     client_secret=\"uxHGsL0zNODbowN6umVnBWpqLAQ\")\n",
    "\n",
    "# Access to https://www.reddit.com/r/Portland/comments/75bi8h/psa_it_is_legal_for_bicyclist_to_ride_down/\n",
    "submission = reddit.submission(id='75bi8h')\n",
    "submission.comments.replace_more(limit=0) #read all comments\n",
    "comment = [] #list origination\n",
    "for top_level_comment in submission.comments:\n",
    "    comment.append(top_level_comment.body)\n",
    "    \n",
    "print (comment[:5])\n"
   ]
  },
  {
   "cell_type": "code",
   "execution_count": 69,
   "metadata": {},
   "outputs": [
    {
     "data": {
      "text/plain": [
       "[\"I'm a cyclist who's been hit by two cars, both on smaller residential streets. This is legal but it isn't the safest. Figure out your own level of risk tolerance. \",\n",
       " 'Posts calling out specific users are so tacky. ',\n",
       " 'PSA: something being legal doesn’t make it safe.',\n",
       " 'Would you rather be right or happy?',\n",
       " 'In my experience the bicycle highways that are a few blocks off of those roads are more fun. I like being with the other bicyclists, and not being a general dickhead about where and how I ride. ']"
      ]
     },
     "execution_count": 69,
     "metadata": {},
     "output_type": "execute_result"
    }
   ],
   "source": [
    "comment[:5]"
   ]
  },
  {
   "cell_type": "code",
   "execution_count": 79,
   "metadata": {},
   "outputs": [
    {
     "name": "stdout",
     "output_type": "stream",
     "text": [
      "Hey /r/all.  We know you're coming, so please read the [rules](https://www.reddit.com/r/StarWars/wiki/rules).\n",
      "\n",
      "#[YOUTUBE LINK](https://www.youtube.com/watch?v=Q0CbN8sfihY)\n",
      "\n",
      "#[No Spoilers Thread](https://www.reddit.com/r/StarWars/comments/75e0e1/for_those_who_dont_want_spoilers_is_it_okay_to/)\n",
      "\n",
      "\n",
      "\"How do we gracefully write Carrier Fisher out of the franchise?\"\n",
      "\n",
      "\"Proton torpedo ought to do the trick.\"\n",
      "\n",
      "\n",
      "It looks beautiful..\n",
      "\n",
      "\n",
      "I expect there was MAJOR misdirections in that trailer. \n",
      "\n",
      "\n",
      "First look at Snoke in person and he looks mighty creepy\n",
      "\n",
      "\n",
      "I suspect the level of misdirection in this trailer is higher than Anakin's midichlorian count\n",
      "\n",
      "\n",
      "So when Rey says \"I need someone to show me my place in all this\", I'm pretty sure she's talking to Luke, on Ach-to.\n",
      "\n",
      "However, I'm also pretty sure that when Kylo extends his hand, he's facing Rey. \n",
      "\n",
      "This is very exciting.\n",
      "\n",
      "\n",
      "Captain Phasma not useless confirmed!\n",
      "\n",
      "\n",
      "KYLO STOP KILLING YOUR PARENTS YOU UNGRATEFUL LITTLE SHIT \n",
      "\n",
      "\n",
      "\"This is not going to go the way you think.\"\n",
      "\n",
      " I hope you're telling the truth, Luke.\n",
      "\n",
      "Sidenote, I bet that last line was what Mark and Rian didn't want everyone to hear.\n",
      "\n",
      "\n"
     ]
    }
   ],
   "source": [
    "for i in range(10):\n",
    "    print (comment[i])\n",
    "    print('\\n')"
   ]
  },
  {
   "cell_type": "code",
   "execution_count": 75,
   "metadata": {},
   "outputs": [
    {
     "data": {
      "text/plain": [
       "22"
      ]
     },
     "execution_count": 75,
     "metadata": {},
     "output_type": "execute_result"
    }
   ],
   "source": [
    "len(comment)"
   ]
  },
  {
   "cell_type": "code",
   "execution_count": null,
   "metadata": {
    "collapsed": true
   },
   "outputs": [],
   "source": [
    "75dxvp"
   ]
  },
  {
   "cell_type": "code",
   "execution_count": null,
   "metadata": {
    "collapsed": true
   },
   "outputs": [],
   "source": []
  },
  {
   "cell_type": "code",
   "execution_count": 83,
   "metadata": {},
   "outputs": [
    {
     "name": "stdout",
     "output_type": "stream",
     "text": [
      "[\"Hey /r/all.  We know you're coming, so please read the [rules](https://www.reddit.com/r/StarWars/wiki/rules).\\n\\n#[YOUTUBE LINK](https://www.youtube.com/watch?v=Q0CbN8sfihY)\\n\\n#[No Spoilers Thread](https://www.reddit.com/r/StarWars/comments/75e0e1/for_those_who_dont_want_spoilers_is_it_okay_to/)\", '\"How do we gracefully write Carrier Fisher out of the franchise?\"\\n\\n\"Proton torpedo ought to do the trick.\"', 'It looks beautiful..', 'I expect there was MAJOR misdirections in that trailer. ', 'First look at Snoke in person and he looks mighty creepy']\n",
      "83\n"
     ]
    }
   ],
   "source": [
    "import praw\n",
    "\n",
    "#this is a read-only instance\n",
    "reddit = praw.Reddit(user_agent='first_scrape (by /u/dswald)',\n",
    "                     client_id='TyAK1zSuAvQjmA', \n",
    "                     client_secret=\"uxHGsL0zNODbowN6umVnBWpqLAQ\")\n",
    "\n",
    "# Access to https://www.reddit.com/r/Portland/comments/75bi8h/psa_it_is_legal_for_bicyclist_to_ride_down/\n",
    "submission = reddit.submission(id='75dxvp')\n",
    "submission.comments.replace_more(limit=0) #read all comments\n",
    "comment = [] #list origination\n",
    "for top_level_comment in submission.comments:\n",
    "    comment.append(top_level_comment.body)\n",
    "    \n",
    "print (comment[:5])\n",
    "print (len(submission.comments))\n"
   ]
  },
  {
   "cell_type": "code",
   "execution_count": 81,
   "metadata": {},
   "outputs": [
    {
     "data": {
      "text/plain": [
       "83"
      ]
     },
     "execution_count": 81,
     "metadata": {},
     "output_type": "execute_result"
    }
   ],
   "source": [
    "len(comment)"
   ]
  },
  {
   "cell_type": "code",
   "execution_count": null,
   "metadata": {
    "collapsed": true
   },
   "outputs": [],
   "source": []
  }
 ],
 "metadata": {
  "kernelspec": {
   "display_name": "Python [conda root]",
   "language": "python",
   "name": "conda-root-py"
  },
  "language_info": {
   "codemirror_mode": {
    "name": "ipython",
    "version": 3
   },
   "file_extension": ".py",
   "mimetype": "text/x-python",
   "name": "python",
   "nbconvert_exporter": "python",
   "pygments_lexer": "ipython3",
   "version": "3.5.3"
  }
 },
 "nbformat": 4,
 "nbformat_minor": 2
}
