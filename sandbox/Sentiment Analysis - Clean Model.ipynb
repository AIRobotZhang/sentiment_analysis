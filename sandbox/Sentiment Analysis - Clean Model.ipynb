{
 "cells": [
  {
   "cell_type": "markdown",
   "metadata": {},
   "source": [
    "## Sentiment Analysis\n",
    "### Using Sentiment140 Tweet Corpus & SemEval Corpus Combined\n",
    "\n"
   ]
  },
  {
   "cell_type": "code",
   "execution_count": 1,
   "metadata": {},
   "outputs": [
    {
     "name": "stderr",
     "output_type": "stream",
     "text": [
      "C:\\ProgramData\\Anaconda3\\envs\\tensorflow\\lib\\site-packages\\gensim\\utils.py:860: UserWarning: detected Windows; aliasing chunkize to chunkize_serial\n",
      "  warnings.warn(\"detected Windows; aliasing chunkize to chunkize_serial\")\n",
      "Using TensorFlow backend.\n"
     ]
    }
   ],
   "source": [
    "# Load Packages\n",
    "\n",
    "# Standard python helper libraries.\n",
    "import collections\n",
    "import itertools\n",
    "import json\n",
    "import os\n",
    "import re\n",
    "import sys\n",
    "import time\n",
    "\n",
    "# Numerical manipulation libraries.\n",
    "import numpy as np\n",
    "import pandas as pd\n",
    "# from scipy import stats\n",
    "# import scipy.optimize\n",
    "\n",
    "# NLTK\n",
    "import nltk\n",
    "from nltk.tokenize import word_tokenize\n",
    "from nltk.tokenize import TweetTokenizer # a tweet tokenizer from nltk.\n",
    "\n",
    "# Helper libraries (from w266 Materials).\n",
    "# import segment\n",
    "#from shared_lib import utils\n",
    "# from shared_lib import vocabulary\n",
    "\n",
    "# Machine Learning Packages\n",
    "from sklearn.model_selection import train_test_split\n",
    "from sklearn.feature_extraction.text import TfidfVectorizer\n",
    "from sklearn.preprocessing import StandardScaler\n",
    "from sklearn.preprocessing import LabelEncoder\n",
    "\n",
    "# Word2Vec Model\n",
    "import gensim\n",
    "from gensim.models.word2vec import Word2Vec # the word2vec model gensim class\n",
    "\n",
    "# Keras\n",
    "from keras.models import Sequential\n",
    "from keras.layers import Dense\n",
    "from keras.layers import LSTM, Conv1D, Flatten, Dropout\n",
    "from keras.layers.embeddings import Embedding\n",
    "from keras.preprocessing import sequence\n",
    "from keras.utils.np_utils import to_categorical\n",
    "from keras.models import load_model\n",
    "\n",
    "# Data Viz\n",
    "%matplotlib inline\n",
    "import matplotlib.mlab as mlab\n",
    "import matplotlib.pyplot as plt\n",
    "\n",
    "# Python Reddit API Wrapper\n",
    "import praw"
   ]
  },
  {
   "cell_type": "markdown",
   "metadata": {},
   "source": [
    "### Load in Corpora & Clean"
   ]
  },
  {
   "cell_type": "markdown",
   "metadata": {},
   "source": [
    "#### SemEval Corpus\n",
    "Explanation of corpus.\n",
    "\n",
    "Must download Tweet Data on your own, using the tutorial and code found here https://github.com/seirasto/twitter_download"
   ]
  },
  {
   "cell_type": "code",
   "execution_count": 2,
   "metadata": {
    "collapsed": true
   },
   "outputs": [],
   "source": [
    "# Load data as a pandas dataframe\n",
    "cols = ['TweetID', 'Sentiment', 'SentimentText']\n",
    "tweets = pd.read_table(\"Data/twitter_download-master/ALL_SEMEVAL_TRAIN_DATA.txt\", header=None,\n",
    "                       names=cols, encoding='ISO-8859-1', error_bad_lines=False)\n",
    "\n",
    "# Drop extra columns\n",
    "tweets.drop(['TweetID'], axis=1, inplace=True)\n",
    "\n",
    "# # Remove Null Tweets\n",
    "# tweets = tweets[tweets.Sentiment.isnull() == False]\n",
    "\n",
    "# Map Integers to each of the categorical data (match with Sentiment 140 encoding)\n",
    "tweets['Sentiment'] = tweets['Sentiment'].map({'negative':0, 'neutral':2, 'positive':4})"
   ]
  },
  {
   "cell_type": "markdown",
   "metadata": {},
   "source": [
    "#### Sentiment 140 Corpus\n",
    "Explanation of corpus."
   ]
  },
  {
   "cell_type": "code",
   "execution_count": 3,
   "metadata": {
    "collapsed": true
   },
   "outputs": [],
   "source": [
    "# Load data as a pandas dataframe\n",
    "cols2 = ['Sentiment', 'ItemID', 'DateTime', 'Query', 'SentimentSource', 'SentimentText']\n",
    "tweets2 = pd.read_csv('Data/milliontweetCorpus/training.1600000.processed.noemoticon.csv', \n",
    "                     header=None, names=cols2, encoding='ISO-8859-1', error_bad_lines=False) #, nrows=num_tweets)\n",
    "\n",
    "# Drop extra columns\n",
    "tweets2.drop(['ItemID', 'DateTime', 'Query', 'SentimentSource'], axis=1, inplace=True)\n",
    "\n",
    "# # Remove Null Tweets\n",
    "# tweets2 = tweets2[tweets2.Sentiment.isnull() == False]\n",
    "\n",
    "# Map Integers to each of the categorical data (0: Negative, 4: Positive)\n",
    "tweets2['Sentiment'] = tweets2['Sentiment'].map(int)\n"
   ]
  },
  {
   "cell_type": "markdown",
   "metadata": {},
   "source": [
    "Combine corpora"
   ]
  },
  {
   "cell_type": "code",
   "execution_count": 4,
   "metadata": {},
   "outputs": [
    {
     "name": "stdout",
     "output_type": "stream",
     "text": [
      "Concatenated DataFrame Shape: (1616667, 2)\n"
     ]
    }
   ],
   "source": [
    "# Combine Dataframes\n",
    "tweets = pd.concat([tweets,tweets2], axis=0)\n",
    "\n",
    "# Remove Null Tweets, show shape, and print first 5 tweets\n",
    "tweets = tweets[tweets['SentimentText'].isnull() == False]\n",
    "tweets = tweets[tweets['SentimentText'] != 'Not Available']\n",
    "tweets.reset_index(inplace=True)\n",
    "tweets.drop('index', axis=1, inplace=True)\n",
    "print('Concatenated DataFrame Shape:', tweets.shape)\n"
   ]
  },
  {
   "cell_type": "markdown",
   "metadata": {},
   "source": [
    "#### Explore a few of the Tweets"
   ]
  },
  {
   "cell_type": "code",
   "execution_count": 5,
   "metadata": {},
   "outputs": [
    {
     "name": "stdout",
     "output_type": "stream",
     "text": [
      "Positive Tweet: the rain is coming . . . and i got my new Gap umbrella. \n",
      "Negative Tweet: @DJSTUPAC  dont look like imma be able to make it. im moving this week so funds are super tight. very sad behind that too \n",
      "Positive Tweet: June 16th is going to be a great day \n",
      "Negative Tweet: @the_crooked_toe yep hard fight  lots of business contacts replied wnt use their work email b/c they expect veeam spam. Lost 23 votes \n",
      "Positive Tweet: Going to eat icecream and watch Godhand Teru. \n",
      "Negative Tweet: @Maggiemelba ouch  all better now? Coming to work today?\n",
      "Negative Tweet: Going to go work out. Then meetings all day \n",
      "Positive Tweet: @randomdrunk Wonder what a coco-pops pizza would be like? Not too sure, but still tempted to try a baked-bean one! Sad eh? \n",
      "Negative Tweet: im really really ill \n",
      "Positive Tweet: @masterlesamurai haha yeah gradma's boy is total b comedy.i enjoyed it still.Its always sunny in philadelphia, ul thank me  BEST THING EVA\n",
      "Negative Tweet: wishing you were somehow here again....   watching phantom of the opera....that song makes me sad\n",
      "Negative Tweet: David Carradine  so sad. Thai's law not sure if it's fowl play? How many people hang themselves and tie their testicles?\n",
      "Negative Tweet: sono  .. acho que vou ler fic's -q  :*\n",
      "Negative Tweet: summerrrrrr would you come sooner!?!??? i'm waiting here!!! pleasss \n",
      "Positive Tweet: Star Trek was sooo good, but are we suprised? No. Hanging out in Caroline's room now. Listenin to some sweet tunes. \n",
      "Positive Tweet: Leaving gorgeous Corona.. look @ the full moon! It's beautiful \n",
      "Negative Tweet: The weak economy is really hurting the celebration this year. Everyone kicked out by 11pm despite the weak turnout.  #astd09\n",
      "Negative Tweet: Wish I could afford today's @woot. \n",
      "Negative Tweet: @SpringWestEnd One week left and im getting sadder and sadder! I cant believe im only going to be able to see it 3 times \n",
      "Negative Tweet: @frankensite Ha! I hoped a tweet would get the tune out of my mind. No such luck. \n"
     ]
    }
   ],
   "source": [
    "# Print a bunch of Random Tweets\n",
    "i = 0\n",
    "while i < 20:\n",
    "    current = np.random.randint(0,tweets.shape[0]-1)\n",
    "    sent = tweets.Sentiment[current]\n",
    "    text = tweets.SentimentText[current]\n",
    "    if sent == 0:\n",
    "        i += 1\n",
    "        print('Negative Tweet:', text)\n",
    "    if sent == 4:\n",
    "        i += 1\n",
    "        print('Positive Tweet:', text)\n",
    "    else:\n",
    "        continue"
   ]
  },
  {
   "cell_type": "markdown",
   "metadata": {},
   "source": [
    "General thoughts of the corpora above:\n",
    "1. Emoticons were removed from the Sentiment140 database but were NOT removed from the SemEval database. This could cause the model to pick up on that sequence of characters (ie. :(, =)) as defining features. Should remove.\n",
    "2. Definitely some tweets I would say are miscategorized. For example: 'I love my sister a.k.a brianna!!! Missing her..we might be away by distance,never in heart..' is labeled Negative due to the presence of a :( in the original tweet. The accuracy of any model trying to predict Positive/Negative Sentiment on this corpus will consistently struggle to approach perfection due to these types of labels.\n",
    "3. The general sentence structure here is grammatically awful and may not translate well to Reddit where individuals tend to hold more of a long-form conversation. "
   ]
  },
  {
   "cell_type": "markdown",
   "metadata": {},
   "source": [
    "### Cleaning"
   ]
  },
  {
   "cell_type": "markdown",
   "metadata": {},
   "source": [
    "#### Tokenizing each Tweet"
   ]
  },
  {
   "cell_type": "code",
   "execution_count": 6,
   "metadata": {
    "collapsed": true
   },
   "outputs": [],
   "source": [
    "# Use NLTK's Tweet Tokenizer\n",
    "t = TweetTokenizer()\n",
    "\n",
    "def create_tokens(tweet):\n",
    "    \n",
    "    # Adjust all words in sentence to Lowercase\n",
    "    tweet = str(tweet.lower())\n",
    "    \n",
    "    #Tokenize the sentence\n",
    "    tokens = t.tokenize(tweet)\n",
    "    \n",
    "    # Filter out some unnecessary links, mentions, retweets, handles, and emoticons\n",
    "    tokens = list(filter(lambda x: not x.startswith('@'), tokens)) ##\n",
    "    tokens = list(filter(lambda x: not x.startswith('#'), tokens)) ##\n",
    "    tokens = list(filter(lambda x: not x.startswith('RT'), tokens)) ##\n",
    "    tokens = list(filter(lambda x: not x.startswith('http'), tokens)) ##\n",
    "    tokens = list(filter(lambda x: not x.startswith(':)'), tokens)) ##\n",
    "    tokens = list(filter(lambda x: not x.startswith(':-)'), tokens)) ##\n",
    "    tokens = list(filter(lambda x: not x.startswith(': )'), tokens)) ##\n",
    "    tokens = list(filter(lambda x: not x.startswith(':D'), tokens)) ##\n",
    "    tokens = list(filter(lambda x: not x.startswith('=)'), tokens)) ##\n",
    "    tokens = list(filter(lambda x: not x.startswith(':('), tokens)) ##\n",
    "    tokens = list(filter(lambda x: not x.startswith(':-('), tokens)) ##\n",
    "    tokens = list(filter(lambda x: not x.startswith(': ('), tokens)) ##\n",
    "    return tokens\n",
    "\n",
    "tweets['SentimentTextTokenized'] = tweets['SentimentText'].apply(create_tokens)\n",
    "tweets.head()\n",
    "\n",
    "\n",
    "X = tweets.SentimentTextTokenized\n",
    "Y = tweets.Sentiment"
   ]
  },
  {
   "cell_type": "markdown",
   "metadata": {},
   "source": [
    "#### Visual Exploration (we can do better, if time)"
   ]
  },
  {
   "cell_type": "code",
   "execution_count": 7,
   "metadata": {},
   "outputs": [
    {
     "data": {
      "image/png": "[encoded data removed]",
      "text/plain": [
       "<matplotlib.figure.Figure at 0x2ad12231358>"
      ]
     },
     "metadata": {},
     "output_type": "display_data"
    }
   ],
   "source": [
    "num_bins = 5\n",
    "n, bins, patches = plt.hist(tweets.Sentiment, num_bins, facecolor='blue', alpha=0.5)\n",
    "plt.show()\n",
    "\n",
    "# Because the two corpora are combined, we see 3 categories in this Training Dataset. Negative = 0, Neutral = 2, Positive = 4"
   ]
  },
  {
   "cell_type": "markdown",
   "metadata": {},
   "source": [
    "### Preprocessing & Feature Engineering"
   ]
  },
  {
   "cell_type": "code",
   "execution_count": 8,
   "metadata": {},
   "outputs": [
    {
     "name": "stdout",
     "output_type": "stream",
     "text": [
      "1418399    [just, did, a, test, drive, with, the, bmw, 11...\n",
      "1590568    [good, luck, lauren, ., i, know, you, are, goi...\n",
      "1426864    [shipley's, donuts, sounds, amazing, right, no...\n",
      "711160     [i, dont, like, it, at, all, ., its, confusing...\n",
      "1576708                          [i, got, it, ..., hehehehe]\n",
      "Name: SentimentTextTokenized, dtype: object\n",
      "1418399    4\n",
      "1590568    4\n",
      "1426864    4\n",
      "711160     0\n",
      "1576708    4\n",
      "Name: Sentiment, dtype: int64\n"
     ]
    }
   ],
   "source": [
    "# Split into Train and Test Sets\n",
    "X_train, X_test, y_train, y_test = train_test_split(X,Y,test_size=0.20,random_state=100)\n",
    "\n",
    "print(X_train[:5])\n",
    "print(y_train[:5])"
   ]
  },
  {
   "cell_type": "markdown",
   "metadata": {},
   "source": [
    "### Convert Words into Vector Representation\n",
    "\n",
    "Leveraging GenSim's Word2Vec model to convert our vocabulary into a vocabulary of word vectors."
   ]
  },
  {
   "cell_type": "code",
   "execution_count": 9,
   "metadata": {},
   "outputs": [
    {
     "data": {
      "text/plain": [
       "14001331"
      ]
     },
     "execution_count": 9,
     "metadata": {},
     "output_type": "execute_result"
    }
   ],
   "source": [
    "# Specify the Word Vector Dimensionality\n",
    "vector_dim = 100\n",
    "\n",
    "# Threshold for words to be included (helps remove rare words)\n",
    "thresh = 5\n",
    "\n",
    "W2Vmodel = Word2Vec(size=vector_dim, min_count=thresh)\n",
    "W2Vmodel.build_vocab(x for x in X_train)\n",
    "W2Vmodel.train((x for x in X_train), total_examples=W2Vmodel.corpus_count, epochs=2)"
   ]
  },
  {
   "cell_type": "markdown",
   "metadata": {},
   "source": [
    "Explore a few similar words using Word2Vec's most_similar function"
   ]
  },
  {
   "cell_type": "code",
   "execution_count": 10,
   "metadata": {
    "scrolled": true
   },
   "outputs": [
    {
     "name": "stdout",
     "output_type": "stream",
     "text": [
      "##### potato #####\n",
      "93% grilled\n",
      "91% fried\n",
      "91% sausage\n",
      "91% garlic\n",
      "90% homemade\n",
      "90% choc\n",
      "90% cinnamon\n",
      "90% blueberry\n",
      "90% pasta\n",
      "90% banana\n",
      "\n",
      "##### hilarious #####\n",
      "82% funny\n",
      "79% dope\n",
      "77% brilliant\n",
      "75% scary\n",
      "75% awesome\n",
      "74% amazing\n",
      "74% awsome\n",
      "74% adorable\n",
      "71% incredible\n",
      "68% ace\n",
      "\n",
      "##### tuesday #####\n",
      "95% wednesday\n",
      "90% thursday\n",
      "87% monday\n",
      "85% friday\n",
      "83% wed\n",
      "81% tues\n",
      "79% thurs\n",
      "79% saturday\n",
      "77% fri\n",
      "76% sunday\n",
      "\n",
      "##### trump #####\n",
      "86% donald\n",
      "82% obama\n",
      "81% jeb\n",
      "79% merkel\n",
      "79% sanders\n",
      "79% bush\n",
      "79% harper\n",
      "77% jindal\n",
      "77% pope\n",
      "76% president\n",
      "\n"
     ]
    }
   ],
   "source": [
    "def print_similar(word):\n",
    "    print('##### %s #####' %word)\n",
    "    for each in W2Vmodel.most_similar(str(word)):\n",
    "        print('%i%% %s' %(each[1]*100, each[0]))\n",
    "    print('')\n",
    "\n",
    "print_similar('potato')\n",
    "print_similar('hilarious')\n",
    "print_similar('tuesday')\n",
    "print_similar('trump')    "
   ]
  },
  {
   "cell_type": "markdown",
   "metadata": {},
   "source": [
    "### Convert Tweets into Vector Representation\n",
    "\n",
    "First attempt was to simply average all of the word vectors present in a single tweet.\n",
    "\n",
    "Second attempt utilized TFIDF rankings for each word to take into account the rarity/importance of that word within the overall corpus. \n",
    "\n"
   ]
  },
  {
   "cell_type": "code",
   "execution_count": 11,
   "metadata": {
    "collapsed": true
   },
   "outputs": [],
   "source": [
    "def buildTweetVector(tokens, vector_dim):\n",
    "    \n",
    "    # Initialize a blank vector of shape (1,vector_dim)\n",
    "    tweet_vec = np.zeros(vector_dim).reshape((1, vector_dim))\n",
    "    \n",
    "    # Initialize # of words in tweet count\n",
    "    count = 0.\n",
    "    \n",
    "    for word in tokens:\n",
    "        try:\n",
    "            # Take each word vector in the tweet and add each dimension to the overall tweet vector\n",
    "            tweet_vec += W2Vmodel[word].reshape((1, vector_dim))\n",
    "            \n",
    "            # Increment Count\n",
    "            count += 1.\n",
    "            \n",
    "        except:\n",
    "            continue\n",
    "    \n",
    "    # Average each vector parameter by the # of words in the tweet (pass if no words exist in tweet)\n",
    "    if count != 0:\n",
    "        tweet_vec /= count\n",
    "    \n",
    "    # Return Tweet Vector\n",
    "    return tweet_vec"
   ]
  },
  {
   "cell_type": "markdown",
   "metadata": {},
   "source": [
    "#### Build TFIDF Dictionary"
   ]
  },
  {
   "cell_type": "code",
   "execution_count": 12,
   "metadata": {
    "collapsed": true
   },
   "outputs": [],
   "source": [
    "# Fit a TFIDF vectorizer model to the training set\n",
    "vectorizer = TfidfVectorizer(analyzer=lambda x: x, min_df=10)\n",
    "vectorizer.fit_transform([x for x in X_train])\n",
    "\n",
    "# Extract IDF values from model and place into a dictionary\n",
    "tfidf_dict = dict(zip(vectorizer.get_feature_names(), vectorizer.idf_))"
   ]
  },
  {
   "cell_type": "code",
   "execution_count": 13,
   "metadata": {
    "collapsed": true
   },
   "outputs": [],
   "source": [
    "def buildTweetVectorTFIDF(tokens, vector_dim):\n",
    "    \n",
    "    # Initialize a blank vector of shape (1,vector_dim)\n",
    "    tweet_vec = np.zeros(vector_dim).reshape((1, vector_dim))\n",
    "    \n",
    "    # Initialize # of words in tweet count\n",
    "    count = 0.\n",
    "    \n",
    "    for word in tokens:\n",
    "        try:\n",
    "            # Same as above, only now multiply the tfidf score for the current word by its vector \n",
    "            # (to add additional weight to more important words with respect to the corpus)\n",
    "            tweet_vec += W2Vmodel[word].reshape((1, vector_dim)) * tfidf_dict[word]\n",
    "            \n",
    "            # Increment Count\n",
    "            count += 1.\n",
    "            \n",
    "        except:\n",
    "            continue\n",
    "    \n",
    "    # Average each vector parameter by the # of words in the tweet (pass if no words exist in tweet)\n",
    "    if count != 0:\n",
    "        tweet_vec /= count\n",
    "    \n",
    "    # Return Tweet Vector\n",
    "    return tweet_vec"
   ]
  },
  {
   "cell_type": "markdown",
   "metadata": {},
   "source": [
    "#### Turn Training and Test Sets into Tweet Vectors\n",
    "Pass each tweet in the Training/Test Sets into the buildTweetVector function and reassemble training/test set structure"
   ]
  },
  {
   "cell_type": "code",
   "execution_count": 14,
   "metadata": {
    "collapsed": true
   },
   "outputs": [],
   "source": [
    "X_train_tweet_vecs = np.concatenate([buildTweetVectorTFIDF(vec, vector_dim) for vec in map(lambda x: x, X_train)])\n",
    "X_test_tweet_vecs = np.concatenate([buildTweetVectorTFIDF(vec, vector_dim) for vec in map(lambda x: x, X_test)])"
   ]
  },
  {
   "cell_type": "markdown",
   "metadata": {},
   "source": [
    "#### Scale each Vector"
   ]
  },
  {
   "cell_type": "code",
   "execution_count": 15,
   "metadata": {
    "collapsed": true
   },
   "outputs": [],
   "source": [
    "scaler = StandardScaler()\n",
    "scaler.fit(X_train_tweet_vecs)\n",
    "X_train_tweet_vecs = scaler.transform(X_train_tweet_vecs)\n",
    "X_test_tweet_vecs = scaler.transform(X_test_tweet_vecs)"
   ]
  },
  {
   "cell_type": "markdown",
   "metadata": {},
   "source": [
    "#### Encode the Y Labels as Categorical Variable and then One-hot Encode (for multi-class classification)"
   ]
  },
  {
   "cell_type": "code",
   "execution_count": 16,
   "metadata": {},
   "outputs": [
    {
     "name": "stdout",
     "output_type": "stream",
     "text": [
      "Original Y: 1418399    4\n",
      "1590568    4\n",
      "1426864    4\n",
      "711160     0\n",
      "1576708    4\n",
      "54615      0\n",
      "6138       2\n",
      "974273     4\n",
      "84989      0\n",
      "1397183    4\n",
      "Name: Sentiment, dtype: int64\n",
      "Encoded Y: [2 2 2 0 2 0 1 2 0 2]\n",
      "One Hot Y: [[ 0.  0.  1.]\n",
      " [ 0.  0.  1.]\n",
      " [ 0.  0.  1.]\n",
      " [ 1.  0.  0.]\n",
      " [ 0.  0.  1.]\n",
      " [ 1.  0.  0.]\n",
      " [ 0.  1.  0.]\n",
      " [ 0.  0.  1.]\n",
      " [ 1.  0.  0.]\n",
      " [ 0.  0.  1.]]\n"
     ]
    }
   ],
   "source": [
    "print(\"Original Y:\", y_train[:10])\n",
    "encoder = LabelEncoder()\n",
    "encoder.fit(Y)\n",
    "y_train = encoder.transform(y_train)\n",
    "y_test= encoder.transform(y_test)\n",
    "print(\"Encoded Y:\", y_train[:10])\n",
    "\n",
    "y_train = to_categorical(y_train, 3)\n",
    "y_test = to_categorical(y_test, 3)\n",
    "print(\"One Hot Y:\", y_train[:10])"
   ]
  },
  {
   "cell_type": "markdown",
   "metadata": {},
   "source": [
    "## Fit a 'Simple' Neural Network Model using the Tweet Vectors as Features\n",
    "\n",
    "Using Keras & Tensorflow backend."
   ]
  },
  {
   "cell_type": "code",
   "execution_count": 17,
   "metadata": {},
   "outputs": [
    {
     "name": "stdout",
     "output_type": "stream",
     "text": [
      "Epoch 1/1\n",
      " - 30s - loss: 0.5042 - acc: 0.7648\n"
     ]
    },
    {
     "data": {
      "text/plain": [
       "<keras.callbacks.History at 0x2ad8c800a90>"
      ]
     },
     "execution_count": 17,
     "metadata": {},
     "output_type": "execute_result"
    }
   ],
   "source": [
    "# Keras Model w/ Two Affine Layers\n",
    "model = Sequential()\n",
    "model.add(Dense(32, activation='softmax', input_dim=vector_dim))\n",
    "model.add(Dense(3, activation='softmax')) # softmax for multi-class\n",
    "model.compile(optimizer='rmsprop',\n",
    "              loss='categorical_crossentropy', # categorical_crossentropy if multi-class\n",
    "              metrics=['accuracy'])\n",
    "\n",
    "model.fit(X_train_tweet_vecs, y_train, epochs=1, batch_size=32, verbose=2)"
   ]
  },
  {
   "cell_type": "markdown",
   "metadata": {},
   "source": [
    "#### Evaluate Model on Test Set"
   ]
  },
  {
   "cell_type": "code",
   "execution_count": 18,
   "metadata": {},
   "outputs": [
    {
     "name": "stdout",
     "output_type": "stream",
     "text": [
      "Accuracy: 77.14%\n"
     ]
    }
   ],
   "source": [
    "accuracy = model.evaluate(X_test_tweet_vecs, y_test, batch_size=32, verbose=2)\n",
    "print(\"Accuracy: %.2f%%\" % (accuracy[1]*100))"
   ]
  },
  {
   "cell_type": "markdown",
   "metadata": {},
   "source": [
    "#### Save Keras Model"
   ]
  },
  {
   "cell_type": "code",
   "execution_count": 19,
   "metadata": {
    "collapsed": true
   },
   "outputs": [],
   "source": [
    "# Save Keras Model to File (not working on Matt's computer)\n",
    "# model.save('sentiment_model.h5')"
   ]
  },
  {
   "cell_type": "markdown",
   "metadata": {},
   "source": [
    "### Apply Fitted Model to Reddit"
   ]
  },
  {
   "cell_type": "code",
   "execution_count": 20,
   "metadata": {
    "collapsed": true
   },
   "outputs": [],
   "source": [
    "# Function to Predict Positive/Neutral/Negative\n",
    "# def prediction(text):\n",
    "#     sentiment = [\"Negative\",'Neutral', \"Positive\"]\n",
    "#     text = text.split() # Tokenize\n",
    "#     text = buildTweetVectorTFIDF(text, vector_dim)\n",
    "#     text = scaler.transform(text)\n",
    "#     prediction = model.predict(text, batch_size=32)\n",
    "#     result = sentiment[prediction.argmax(axis=1)[0]]\n",
    "#     return result\n",
    "\n",
    "def prediction(text):\n",
    "    sentiment = [\"Negative\",'Neutral', \"Positive\"]\n",
    "    tokens = create_tokens(text)\n",
    "    vectors = buildTweetVectorTFIDF(tokens, vector_dim)\n",
    "    vectors = scaler.transform(vectors)\n",
    "    predic = model.predict(vectors)\n",
    "    result = sentiment[predic.argmax(axis=1)[0]]\n",
    "    return result\n",
    "\n",
    "# Load saved Keras Model from File (not working on Matt's computer)\n",
    "# my_model = load_model('sentiment_model.h5')"
   ]
  },
  {
   "cell_type": "markdown",
   "metadata": {},
   "source": [
    "#### Using the praw package to interact with Reddit's API and pull all comments from a single page"
   ]
  },
  {
   "cell_type": "code",
   "execution_count": 21,
   "metadata": {},
   "outputs": [
    {
     "name": "stdout",
     "output_type": "stream",
     "text": [
      "Title: As many of the bridges as I can get in one panorama!, ups: 585, downs: 0, Have we visited: False\n",
      "--------------------\n",
      "Parent ID: 7iko02\n",
      "Comment ID: dqzjf48\n",
      "Now that is something different.\n",
      "########## PREDICTED SENTIMENT: Positive ##########\n",
      "--------------------\n",
      "Parent ID: 7iko02\n",
      "Comment ID: dqzlrk2\n",
      "Seriously stunning shot.  The next couple of days are offering such a fantastic opportunity for great light, visibility and Alpenglow for photography.  If I had the talent I'd be all over it, but since I don't I'm genuinely appreciating your contribution. I work in Big Pink so I particularly like the shot. \n",
      "########## PREDICTED SENTIMENT: Positive ##########\n",
      "--------------------\n",
      "Parent ID: 7iko02\n",
      "Comment ID: dqzm3le\n",
      "Holy butts. This photo makes me realize how many shipping containers a major city needs. 13/10 more plz\n",
      "########## PREDICTED SENTIMENT: Negative ##########\n",
      "--------------------\n",
      "Parent ID: 7iko02\n",
      "Comment ID: dqznesx\n",
      "That's beautiful! I love the Christmas-themed freights leading in to/coming out of the Albina Yard. I'd pay $20 for a good print of that.\n",
      "########## PREDICTED SENTIMENT: Positive ##########\n",
      "--------------------\n",
      "Parent ID: 7iko02\n",
      "Comment ID: dqzkf8y\n",
      "Beautiful photo, OP. Is the shot taken from a drone ? If so what kind?\n",
      "########## PREDICTED SENTIMENT: Positive ##########\n",
      "--------------------\n",
      "Parent ID: 7iko02\n",
      "Comment ID: dr04lhh\n",
      "This is a really cool view\n",
      "########## PREDICTED SENTIMENT: Positive ##########\n",
      "--------------------\n",
      "Parent ID: 7iko02\n",
      "Comment ID: dr04txa\n",
      "Epic shot. I can't get enough of our bridges. They're incredible.\n",
      "########## PREDICTED SENTIMENT: Positive ##########\n",
      "--------------------\n",
      "Parent ID: 7iko02\n",
      "Comment ID: dr07sgr\n",
      "That would make such an awesome pulled canvas print. \n",
      "########## PREDICTED SENTIMENT: Positive ##########\n",
      "--------------------\n",
      "Parent ID: 7iko02\n",
      "Comment ID: dr05zk0\n",
      "I think I kinda see SJB.. maybe?\n",
      "########## PREDICTED SENTIMENT: Positive ##########\n",
      "--------------------\n",
      "Parent ID: 7iko02\n",
      "Comment ID: dqznm3b\n",
      "I didn't realize there were cherry blossoms blooming right now.\n",
      "########## PREDICTED SENTIMENT: Negative ##########\n",
      "--------------------\n",
      "Parent ID: 7iko02\n",
      "Comment ID: dqzo1jw\n",
      "Nice pictures from this spring OP. I really wonder how many people don’t realize what a gem we have.  (I’m glad they dont!!) it’s crazy to think I have caught fresh spring chinook literally right where this picture was taken!! Hate portland, ( from the valley ) but love what it provides. \n",
      "########## PREDICTED SENTIMENT: Negative ##########\n",
      "--------------------\n",
      "Parent ID: dqzlrk2\n",
      "Comment ID: dqzusgp\n",
      "Thanks\n",
      "########## PREDICTED SENTIMENT: Positive ##########\n",
      "--------------------\n",
      "Parent ID: dqzlrk2\n",
      "Comment ID: dqzxabc\n",
      "Alpenglow in the city? You need substantial vertical relief (and less light pollution) to see it.\n",
      "########## PREDICTED SENTIMENT: Positive ##########\n",
      "--------------------\n",
      "Parent ID: dqzm3le\n",
      "Comment ID: dqzussj\n",
      "Thanks!\n",
      "########## PREDICTED SENTIMENT: Positive ##########\n",
      "--------------------\n",
      "Parent ID: dqzm3le\n",
      "Comment ID: dr07jkk\n",
      "You know we are a port, right?  \n",
      "########## PREDICTED SENTIMENT: Positive ##########\n",
      "--------------------\n",
      "Parent ID: dqznesx\n",
      "Comment ID: dqzut3b\n",
      "Thank you!\n",
      "########## PREDICTED SENTIMENT: Positive ##########\n",
      "--------------------\n",
      "Parent ID: dqzkf8y\n",
      "Comment ID: dqzusaj\n",
      "Thank you. Phantom 4 pro.\n",
      "########## PREDICTED SENTIMENT: Positive ##########\n",
      "--------------------\n",
      "Parent ID: dqznm3b\n",
      "Comment ID: dqzuvq8\n",
      "I came across this and thought some people here would appreciate it. I didn’t realize the community only likes photos taken same day. \n",
      "########## PREDICTED SENTIMENT: Negative ##########\n",
      "--------------------\n",
      "Parent ID: dqzo1jw\n",
      "Comment ID: dqzurny\n",
      "Thanks\n",
      "########## PREDICTED SENTIMENT: Positive ##########\n",
      "--------------------\n",
      "Parent ID: dr07jkk\n",
      "Comment ID: dr09h19\n",
      "Yeah. Still wild to see that many in one shot\n",
      "########## PREDICTED SENTIMENT: Positive ##########\n",
      "Title: Changing Portland: Stories from 5 transformed neighborhoods revealed by Census data, ups: 17, downs: 0, Have we visited: False\n"
     ]
    }
   ],
   "source": [
    "# Initialize a read-only instance\n",
    "reddit = praw.Reddit(user_agent='first_scrape (by /u/dswald)',\n",
    "                     client_id='TyAK1zSuAvQjmA', \n",
    "                     client_secret=\"uxHGsL0zNODbowN6umVnBWpqLAQ\")\n",
    "\n",
    "# Select Url / Subreddit page to view\n",
    "page = 'portland'\n",
    "\n",
    "subreddit = reddit.subreddit(page)\n",
    "hot_python = subreddit.hot(limit = 3) #need to view >2 to get past promoted posts\n",
    "\n",
    "for submission in hot_python:\n",
    "    if not submission.stickied: #top 2 are promoted posts, labeled as 'stickied'\n",
    "        print('Title: {}, ups: {}, downs: {}, Have we visited: {}'.format(submission.title,\n",
    "                                                                          submission.ups,\n",
    "                                                                          submission.downs,\n",
    "                                                                          submission.visited))\n",
    "        comments = submission.comments.list() #unstructured\n",
    "        for comment in comments:\n",
    "            print (20*'-')\n",
    "            print ('Parent ID:', comment.parent())\n",
    "            print ('Comment ID:', comment.id)\n",
    "            print (comment.body)\n",
    "            print(\"#\"*10,'PREDICTED SENTIMENT:', prediction(comment.body),\"#\"*10)"
   ]
  },
  {
   "cell_type": "markdown",
   "metadata": {},
   "source": [
    "### Limitations of this corpora on the Reddit Feeds\n",
    "\n",
    "Unfortunately, sentence structure on Reddit appears to be substantially different compared to tweet structure on Twitter both in grammar use and in length of post. Because the model was built using a corpus that is only 140 characters long (maximum). Considering the creation of a Tweet vector is just an averaging across all of the individual word vectors, theoretically this process should translate to a full Reddit sentence though due to the increased length of a Reddit sentence any 'rare' or 'important words' seen will be more likely to be averaged out in a longer post."
   ]
  },
  {
   "cell_type": "markdown",
   "metadata": {},
   "source": [
    "# -----DEVELOPMENT AREA-------"
   ]
  },
  {
   "cell_type": "markdown",
   "metadata": {},
   "source": [
    "# Trying to Visualize a Network with Positive Nodes = Green, Neg=Red"
   ]
  },
  {
   "cell_type": "code",
   "execution_count": 162,
   "metadata": {},
   "outputs": [
    {
     "name": "stdout",
     "output_type": "stream",
     "text": [
      "Title: Jozy Atlidore goal vs. Seattle [MLS CUP], ups: 79, downs: 0, Have we visited: False\n"
     ]
    },
    {
     "data": {
      "image/png": "[encoded data removed]",
      "text/plain": [
       "<matplotlib.figure.Figure at 0x2ad9a91ddd8>"
      ]
     },
     "metadata": {},
     "output_type": "display_data"
    },
    {
     "name": "stdout",
     "output_type": "stream",
     "text": [
      "Overall Page Positivity Score: 60.00%\n",
      "Overall Weighted Page Positivity Score: 54.55%\n",
      "\n",
      "Title: MLS CUP CHAMPS!!!, ups: 384, downs: 0, Have we visited: False\n"
     ]
    },
    {
     "data": {
      "image/png": "[encoded data removed]",
      "text/plain": [
       "<matplotlib.figure.Figure at 0x2ad9a91d780>"
      ]
     },
     "metadata": {},
     "output_type": "display_data"
    },
    {
     "name": "stdout",
     "output_type": "stream",
     "text": [
      "Overall Page Positivity Score: 70.89%\n",
      "Overall Weighted Page Positivity Score: 73.63%\n",
      "\n",
      "Title: <-----NUMBER OF SALTY SEATTLE SOUNDER TEARS!!!!! TORONTO FC ARE YOUR 2017 MLS CUP CHAMPIONS!!!!!, ups: 196, downs: 0, Have we visited: False\n"
     ]
    },
    {
     "data": {
      "image/png": "[encoded data removed]",
      "text/plain": [
       "<matplotlib.figure.Figure at 0x2ad9fd14588>"
      ]
     },
     "metadata": {},
     "output_type": "display_data"
    },
    {
     "name": "stdout",
     "output_type": "stream",
     "text": [
      "Overall Page Positivity Score: 70.59%\n",
      "Overall Weighted Page Positivity Score: 70.59%\n",
      "\n"
     ]
    }
   ],
   "source": [
    "import matplotlib.pyplot as plt\n",
    "import networkx as nx\n",
    "from collections import Counter, defaultdict\n",
    "\n",
    "# Initialize a read-only instance\n",
    "reddit = praw.Reddit(user_agent='first_scrape (by /u/dswald)',\n",
    "                     client_id='TyAK1zSuAvQjmA', \n",
    "                     client_secret=\"uxHGsL0zNODbowN6umVnBWpqLAQ\")\n",
    "\n",
    "# Select Url / Subreddit page to view\n",
    "page = 'tfc'\n",
    "\n",
    "subreddit = reddit.subreddit(page)\n",
    "hot_python = subreddit.hot(limit = 5) #need to view >2 to get past promoted posts\n",
    "\n",
    "G_dict = {}\n",
    "\n",
    "for submission in hot_python:\n",
    "    if not submission.stickied: #top 2 are promoted posts, labeled as 'stickied'\n",
    "\n",
    "        comments = submission.comments.list() #unstructured\n",
    "        G = nx.DiGraph()\n",
    "        positive_nodes = []\n",
    "        negative_nodes = []\n",
    "        # Build empty dict\n",
    "        degrees = {}\n",
    "        for i in range(1,30):\n",
    "            degrees[i] = []\n",
    "            \n",
    "        for comment in comments:\n",
    "            try:\n",
    "                sentiment = str(prediction(comment.body))\n",
    "                if sentiment == \"Negative\":\n",
    "                    negative_nodes.append(comment.id)\n",
    "#                     degree.append(nx.degree(G))\n",
    "                if sentiment == \"Positive\":\n",
    "                    positive_nodes.append(comment.id)\n",
    "                G.add_node(comment.id)\n",
    "                G.add_edge(comment.parent(), comment.id)\n",
    "            except:\n",
    "                continue\n",
    "            \n",
    "        degree = nx.degree(G)\n",
    "        for id,count in degree.items():\n",
    "            for i in range(1,30):\n",
    "                if count == i:\n",
    "                    degrees[i].append(id)\n",
    "        G_dict[submission] = (G, positive_nodes, negative_nodes, degrees)\n",
    "        \n",
    "\n",
    "\n",
    "i = 0\n",
    "for sub,G in G_dict.items():\n",
    "    print('Title: {}, ups: {}, downs: {}, Have we visited: {}'.format(sub.title,\n",
    "                                                                  sub.ups,\n",
    "                                                                  sub.downs,\n",
    "                                                                  sub.visited))\n",
    "    i += 1\n",
    "\n",
    "    pos = nx.random_layout(G[0])\n",
    "    plt.figure(figsize=(16, 16))\n",
    "    plt.subplot(len(G_dict), 1, i)\n",
    "    total_pos_score = 0\n",
    "    total_neg_score = 0\n",
    "    total_weighted_pos_score = 0\n",
    "    total_weighted_neg_score = 0\n",
    "    \n",
    "    for j in range(1,30):\n",
    "        pos_j = []\n",
    "        neg_j = []\n",
    "        for k in G[3][j]:\n",
    "            if k in G[1]:\n",
    "                pos_j.append(k)\n",
    "                total_weighted_pos_score += j*1\n",
    "                total_pos_score += 1\n",
    "            if k in G[2]:\n",
    "                neg_j.append(k)\n",
    "                total_weighted_neg_score += j*1\n",
    "                total_neg_score += 1\n",
    "                \n",
    "        nx.draw_networkx_nodes(G[0], pos, nodelist=neg_j, node_size=j*30, node_color='r')\n",
    "        nx.draw_networkx_nodes(G[0], pos, nodelist=pos_j, node_size=j*30, node_color='g')\n",
    "        \n",
    "    nx.draw_networkx_edges(G[0], pos, alpha=0.1)\n",
    "    plt.axis('off')\n",
    "    plt.show()\n",
    "    \n",
    "    overall_page_score = total_pos_score / (total_pos_score + total_neg_score)\n",
    "    overall_weighted_page_score = total_weighted_pos_score / (total_weighted_pos_score + total_weighted_neg_score)\n",
    "    print(\"Overall Page Positivity Score: %0.2f%%\" %(overall_page_score*100))\n",
    "    print(\"Overall Weighted Page Positivity Score: %0.2f%%\" %(overall_weighted_page_score*100))\n",
    "    print(\"\")\n",
    "\n"
   ]
  },
  {
   "cell_type": "markdown",
   "metadata": {},
   "source": [
    "### Generating an overall score for each Post on a Subreddit"
   ]
  },
  {
   "cell_type": "code",
   "execution_count": null,
   "metadata": {
    "collapsed": true
   },
   "outputs": [],
   "source": [
    "for sub,G in G_dict.items():\n",
    "    print('Title: {}, ups: {}, downs: {}, Have we visited: {}'.format(sub.title,\n",
    "                                                                  sub.ups,\n",
    "                                                                  sub.downs,\n",
    "                                                                  sub.visited))"
   ]
  }
 ],
 "metadata": {
  "kernelspec": {
   "display_name": "Python [conda env:tensorflow]",
   "language": "python",
   "name": "conda-env-tensorflow-py"
  },
  "language_info": {
   "codemirror_mode": {
    "name": "ipython",
    "version": 3
   },
   "file_extension": ".py",
   "mimetype": "text/x-python",
   "name": "python",
   "nbconvert_exporter": "python",
   "pygments_lexer": "ipython3",
   "version": "3.5.4"
  }
 },
 "nbformat": 4,
 "nbformat_minor": 2
}
