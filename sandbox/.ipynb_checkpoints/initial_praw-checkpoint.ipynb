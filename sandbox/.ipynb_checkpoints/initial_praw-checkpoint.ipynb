{
 "cells": [
  {
   "cell_type": "code",
   "execution_count": 20,
   "metadata": {},
   "outputs": [
    {
     "name": "stdout",
     "output_type": "stream",
     "text": [
      "Requirement already satisfied: praw in /Users/dan/anaconda/lib/python3.5/site-packages\n",
      "Requirement already satisfied: update-checker>=0.16 in /Users/dan/anaconda/lib/python3.5/site-packages (from praw)\n",
      "Requirement already satisfied: prawcore<0.13,>=0.12.0 in /Users/dan/anaconda/lib/python3.5/site-packages (from praw)\n",
      "Requirement already satisfied: requests>=2.3.0 in /Users/dan/anaconda/lib/python3.5/site-packages (from update-checker>=0.16->praw)\n"
     ]
    }
   ],
   "source": [
    "!pip3 install praw"
   ]
  },
  {
   "cell_type": "code",
   "execution_count": 1,
   "metadata": {
    "scrolled": true
   },
   "outputs": [
    {
     "name": "stdout",
     "output_type": "stream",
     "text": [
      "Version 5.1.0 of praw is outdated. Version 5.2.0 was released Tuesday October 24, 2017.\n",
      "https://www.reddit.com/api/v1/authorize?client_id=TyAK1zSuAvQjmA&redirect_uri=http%3A%2F%2Flocalhost%3A8080&duration=permanent&scope=identity&response_type=code&state=...\n"
     ]
    }
   ],
   "source": [
    "import praw\n",
    "import pprint\n",
    "\n",
    "reddit = praw.Reddit(user_agent='web:first_scrape:0.0 (by /u/dswald)',\n",
    "                     client_id='TyAK1zSuAvQjmA', \n",
    "                     client_secret=\"uxHGsL0zNODbowN6umVnBWpqLAQ\",\n",
    "                     redirect_uri='http://localhost:8080')\n",
    "\n",
    "print(reddit.auth.url(['identity'], '...', 'permanent'))"
   ]
  },
  {
   "cell_type": "code",
   "execution_count": 2,
   "metadata": {},
   "outputs": [
    {
     "name": "stdout",
     "output_type": "stream",
     "text": [
      "True\n"
     ]
    }
   ],
   "source": [
    "import praw\n",
    "import pprint\n",
    "\n",
    "#this is a read-only instance\n",
    "reddit = praw.Reddit(user_agent='first_scrape (by /u/dswald)',\n",
    "                     client_id='TyAK1zSuAvQjmA', \n",
    "                     client_secret=\"uxHGsL0zNODbowN6umVnBWpqLAQ\")\n",
    "\n",
    "\n",
    "print(reddit.read_only)  # Output: True"
   ]
  },
  {
   "cell_type": "code",
   "execution_count": 3,
   "metadata": {},
   "outputs": [
    {
     "name": "stdout",
     "output_type": "stream",
     "text": [
      "Ask Anything Monday - Weekly Thread\n",
      "The 14 Knowledge Areas\n",
      "Python Networking\n",
      "Why isnt my .rstrip() method working?\n",
      "Help Learning Python Extensively (Advanced Features)\n",
      "indentations necessary?\n",
      "What is broadcasting in python and data science?\n",
      "Storing functions in a list and calling them.\n",
      "Developing Good Programming Habits\n",
      "Learn Python 3 The Hard Way, is it any good?\n"
     ]
    }
   ],
   "source": [
    "# continued from code above\n",
    "\n",
    "for submission in reddit.subreddit('learnpython').hot(limit=10):\n",
    "    print(submission.title)\n",
    "\n",
    "# Output: 10 submission"
   ]
  },
  {
   "cell_type": "code",
   "execution_count": 4,
   "metadata": {},
   "outputs": [
    {
     "name": "stdout",
     "output_type": "stream",
     "text": [
      "[Comment(id='dpnt8yd'), Comment(id='dpnur3c'), Comment(id='dpo107r'), Comment(id='dpo1usu'), Comment(id='dpo8zaf'), Comment(id='dpoa4rf'), Comment(id='dpo8ezk'), Comment(id='dpoeg3y'), Comment(id='dpommnd'), Comment(id='dpolu9h'), Comment(id='dpohvs9'), Comment(id='dpoqij8'), Comment(id='dpown5u'), Comment(id='dporlex')]\n"
     ]
    }
   ],
   "source": [
    "top_level_comments = list(submission.comments)\n",
    "all_comments = submission.comments.list()\n",
    "print (all_comments)"
   ]
  },
  {
   "cell_type": "code",
   "execution_count": 5,
   "metadata": {
    "collapsed": true
   },
   "outputs": [],
   "source": [
    "# assume you have a Reddit instance bound to variable `reddit`\n",
    "submission = reddit.submission(id='75bi8h')\n",
    "submission.comment_sort = 'new'\n",
    "top_level_comments = list(submission.comments)"
   ]
  },
  {
   "cell_type": "code",
   "execution_count": 6,
   "metadata": {},
   "outputs": [
    {
     "name": "stdout",
     "output_type": "stream",
     "text": [
      "[Comment(id='do6dqkb'), Comment(id='do5sbnn'), Comment(id='do5raz6'), Comment(id='do5jtzn'), Comment(id='do5jb7e'), Comment(id='do55ql8'), Comment(id='do53179'), Comment(id='do52gqb'), Comment(id='do526ni'), Comment(id='do51cj3'), Comment(id='do4zinx'), Comment(id='do4z1gt'), Comment(id='do4ysuf'), Comment(id='do4xu3a'), Comment(id='do4xhih'), Comment(id='do4wynb'), Comment(id='do4wpk5'), Comment(id='do4w3sm'), Comment(id='do4w2lj'), Comment(id='do4w1wj'), Comment(id='do4vifs'), Comment(id='do4vcg5'), Comment(id='do4urm4')]\n"
     ]
    }
   ],
   "source": [
    "print (top_level_comments)"
   ]
  },
  {
   "cell_type": "code",
   "execution_count": 7,
   "metadata": {},
   "outputs": [
    {
     "name": "stdout",
     "output_type": "stream",
     "text": [
      "PSA: It is legal for bicyclist to ride down burnside, hawthorne, division and sandy.\n",
      "{'_comments': <praw.models.comment_forest.CommentForest object at 0x10ea66128>,\n",
      " '_comments_by_id': {'t1_do4urm4': Comment(id='do4urm4'),\n",
      "                     't1_do4vcg5': Comment(id='do4vcg5'),\n",
      "                     't1_do4vifs': Comment(id='do4vifs'),\n",
      "                     't1_do4w1wj': Comment(id='do4w1wj'),\n",
      "                     't1_do4w2lj': Comment(id='do4w2lj'),\n",
      "                     't1_do4w3sm': Comment(id='do4w3sm'),\n",
      "                     't1_do4woma': Comment(id='do4woma'),\n",
      "                     't1_do4wpk5': Comment(id='do4wpk5'),\n",
      "                     't1_do4wynb': Comment(id='do4wynb'),\n",
      "                     't1_do4x3pc': Comment(id='do4x3pc'),\n",
      "                     't1_do4xhih': Comment(id='do4xhih'),\n",
      "                     't1_do4xqhb': Comment(id='do4xqhb'),\n",
      "                     't1_do4xu3a': Comment(id='do4xu3a'),\n",
      "                     't1_do4xubf': Comment(id='do4xubf'),\n",
      "                     't1_do4xzb3': Comment(id='do4xzb3'),\n",
      "                     't1_do4y33x': Comment(id='do4y33x'),\n",
      "                     't1_do4y7ln': Comment(id='do4y7ln'),\n",
      "                     't1_do4ysuf': Comment(id='do4ysuf'),\n",
      "                     't1_do4z1gt': Comment(id='do4z1gt'),\n",
      "                     't1_do4zgn4': Comment(id='do4zgn4'),\n",
      "                     't1_do4zinx': Comment(id='do4zinx'),\n",
      "                     't1_do5063o': Comment(id='do5063o'),\n",
      "                     't1_do50suz': Comment(id='do50suz'),\n",
      "                     't1_do51cj3': Comment(id='do51cj3'),\n",
      "                     't1_do51uc7': Comment(id='do51uc7'),\n",
      "                     't1_do526ni': Comment(id='do526ni'),\n",
      "                     't1_do527p6': Comment(id='do527p6'),\n",
      "                     't1_do52gqb': Comment(id='do52gqb'),\n",
      "                     't1_do53179': Comment(id='do53179'),\n",
      "                     't1_do53csl': Comment(id='do53csl'),\n",
      "                     't1_do53djd': Comment(id='do53djd'),\n",
      "                     't1_do55ql8': Comment(id='do55ql8'),\n",
      "                     't1_do596tu': Comment(id='do596tu'),\n",
      "                     't1_do598ca': Comment(id='do598ca'),\n",
      "                     't1_do599tp': Comment(id='do599tp'),\n",
      "                     't1_do59awt': Comment(id='do59awt'),\n",
      "                     't1_do59d5m': Comment(id='do59d5m'),\n",
      "                     't1_do5aqfy': Comment(id='do5aqfy'),\n",
      "                     't1_do5d7l6': Comment(id='do5d7l6'),\n",
      "                     't1_do5jb7e': Comment(id='do5jb7e'),\n",
      "                     't1_do5jtzn': Comment(id='do5jtzn'),\n",
      "                     't1_do5raz6': Comment(id='do5raz6'),\n",
      "                     't1_do5sbnn': Comment(id='do5sbnn'),\n",
      "                     't1_do6dqkb': Comment(id='do6dqkb')},\n",
      " '_fetched': True,\n",
      " '_flair': None,\n",
      " '_info_params': {},\n",
      " '_mod': None,\n",
      " '_reddit': <praw.reddit.Reddit object at 0x10ea4cf60>,\n",
      " 'approved_at_utc': None,\n",
      " 'approved_by': None,\n",
      " 'archived': False,\n",
      " 'author': None,\n",
      " 'author_flair_css_class': None,\n",
      " 'author_flair_text': None,\n",
      " 'banned_at_utc': None,\n",
      " 'banned_by': None,\n",
      " 'brand_safe': True,\n",
      " 'can_gild': False,\n",
      " 'can_mod_post': False,\n",
      " 'clicked': False,\n",
      " 'comment_limit': 2048,\n",
      " 'comment_sort': 'best',\n",
      " 'contest_mode': False,\n",
      " 'created': 1507606050.0,\n",
      " 'created_utc': 1507577250.0,\n",
      " 'distinguished': None,\n",
      " 'domain': 'self.Portland',\n",
      " 'downs': 0,\n",
      " 'edited': False,\n",
      " 'gilded': 0,\n",
      " 'hidden': False,\n",
      " 'hide_score': False,\n",
      " 'id': '75bi8h',\n",
      " 'is_crosspostable': False,\n",
      " 'is_reddit_media_domain': False,\n",
      " 'is_self': True,\n",
      " 'is_video': False,\n",
      " 'likes': None,\n",
      " 'link_flair_css_class': None,\n",
      " 'link_flair_text': None,\n",
      " 'locked': False,\n",
      " 'media': None,\n",
      " 'media_embed': {},\n",
      " 'mod_reports': [],\n",
      " 'name': 't3_75bi8h',\n",
      " 'num_comments': 42,\n",
      " 'num_crossposts': 0,\n",
      " 'num_reports': None,\n",
      " 'over_18': False,\n",
      " 'parent_whitelist_status': 'all_ads',\n",
      " 'permalink': '/r/Portland/comments/75bi8h/psa_it_is_legal_for_bicyclist_to_ride_down/',\n",
      " 'pinned': False,\n",
      " 'quarantine': False,\n",
      " 'removal_reason': None,\n",
      " 'report_reasons': None,\n",
      " 'saved': False,\n",
      " 'score': 0,\n",
      " 'secure_media': None,\n",
      " 'secure_media_embed': {},\n",
      " 'selftext': 'Despite what /u/vulture_cabaret thinks.',\n",
      " 'selftext_html': '<!-- SC_OFF --><div class=\"md\"><p>Despite what <a '\n",
      "                  'href=\"/u/vulture_cabaret\">/u/vulture_cabaret</a> '\n",
      "                  'thinks.</p>\\n'\n",
      "                  '</div><!-- SC_ON -->',\n",
      " 'spoiler': False,\n",
      " 'stickied': False,\n",
      " 'subreddit': Subreddit(display_name='Portland'),\n",
      " 'subreddit_id': 't5_2qi2i',\n",
      " 'subreddit_name_prefixed': 'r/Portland',\n",
      " 'subreddit_type': 'public',\n",
      " 'suggested_sort': None,\n",
      " 'thumbnail': 'self',\n",
      " 'thumbnail_height': None,\n",
      " 'thumbnail_width': None,\n",
      " 'title': 'PSA: It is legal for bicyclist to ride down burnside, hawthorne, '\n",
      "          'division and sandy.',\n",
      " 'ups': 0,\n",
      " 'upvote_ratio': 0.46,\n",
      " 'url': 'https://www.reddit.com/r/Portland/comments/75bi8h/psa_it_is_legal_for_bicyclist_to_ride_down/',\n",
      " 'user_reports': [],\n",
      " 'view_count': None,\n",
      " 'visited': False,\n",
      " 'whitelist_status': 'all_ads'}\n"
     ]
    }
   ],
   "source": [
    "# assume you have a Reddit instance bound to variable `reddit`\n",
    "submission = reddit.submission(id='75bi8h')\n",
    "#submission = reddit.submission(url = 'https://www.reddit.com/r/Portland/comments/75bi8h/psa_it_is_legal_for_bicyclist_to_ride_down/?st=j8l4973c&sh=cab7a014')\n",
    "print(submission.title) # to make it non-lazy\n",
    "pprint.pprint(vars(submission))"
   ]
  },
  {
   "cell_type": "code",
   "execution_count": 18,
   "metadata": {},
   "outputs": [
    {
     "name": "stdout",
     "output_type": "stream",
     "text": [
      "[\"I'm a cyclist who's been hit by two cars, both on smaller residential streets. This is legal but it isn't the safest. Figure out your own level of risk tolerance. \", 'Posts calling out specific users are so tacky. ', '[deleted]', 'In my experience the bicycle highways that are a few blocks off of those roads are more fun. I like being with the other bicyclists, and not being a general dickhead about where and how I ride. ', 'Would you rather be right or happy?']\n"
     ]
    }
   ],
   "source": [
    "import praw\n",
    "\n",
    "#this is a read-only instance\n",
    "reddit = praw.Reddit(user_agent='first_scrape (by /u/dswald)',\n",
    "                     client_id='TyAK1zSuAvQjmA', \n",
    "                     client_secret=\"uxHGsL0zNODbowN6umVnBWpqLAQ\")\n",
    "\n",
    "# Access to https://www.reddit.com/r/Portland/comments/75bi8h/psa_it_is_legal_for_bicyclist_to_ride_down/\n",
    "submission = reddit.submission(id='75bi8h')\n",
    "submission.comments.replace_more(limit=0) #read all comments\n",
    "c = [] #list origination\n",
    "\n",
    "for comment in submission.comments.list():\n",
    "    c.append(comment.body)\n",
    "\n",
    "#for top_level_comment in submission.comments:\n",
    "#    comment.append(top_level_comment.body)\n",
    "    \n",
    "print (c[:5])\n"
   ]
  },
  {
   "cell_type": "code",
   "execution_count": 21,
   "metadata": {},
   "outputs": [
    {
     "ename": "AttributeError",
     "evalue": "'Reddit' object has no attribute 'get_subredditt'",
     "output_type": "error",
     "traceback": [
      "\u001b[0;31m---------------------------------------------------------------------------\u001b[0m",
      "\u001b[0;31mAttributeError\u001b[0m                            Traceback (most recent call last)",
      "\u001b[0;32m<ipython-input-21-e6a0a8d2bcc7>\u001b[0m in \u001b[0;36m<module>\u001b[0;34m()\u001b[0m\n\u001b[1;32m      4\u001b[0m                      \u001b[0mclient_id\u001b[0m\u001b[0;34m=\u001b[0m\u001b[0;34m'TyAK1zSuAvQjmA'\u001b[0m\u001b[0;34m,\u001b[0m\u001b[0;34m\u001b[0m\u001b[0m\n\u001b[1;32m      5\u001b[0m                      client_secret=\"uxHGsL0zNODbowN6umVnBWpqLAQ\")\n\u001b[0;32m----> 6\u001b[0;31m \u001b[0msubreddit\u001b[0m \u001b[0;34m=\u001b[0m \u001b[0mr\u001b[0m\u001b[0;34m.\u001b[0m\u001b[0mget_subredditt\u001b[0m\u001b[0;34m(\u001b[0m\u001b[0;34m\"python\"\u001b[0m\u001b[0;34m)\u001b[0m\u001b[0;34m\u001b[0m\u001b[0m\n\u001b[0m\u001b[1;32m      7\u001b[0m \u001b[0mcomments\u001b[0m \u001b[0;34m=\u001b[0m \u001b[0msubreddit\u001b[0m\u001b[0;34m.\u001b[0m\u001b[0mget_comments\u001b[0m\u001b[0;34m(\u001b[0m\u001b[0;34m)\u001b[0m\u001b[0;34m\u001b[0m\u001b[0m\n",
      "\u001b[0;31mAttributeError\u001b[0m: 'Reddit' object has no attribute 'get_subredditt'"
     ]
    }
   ],
   "source": [
    "#import praw\n",
    "#r = praw.Reddit('Comment parser example by u/_Daimon_')\n",
    "r = praw.Reddit(user_agent='first_scrape (by /u/dswald)',\n",
    "                     client_id='TyAK1zSuAvQjmA', \n",
    "                     client_secret=\"uxHGsL0zNODbowN6umVnBWpqLAQ\")\n",
    "subreddit = r.get_subredditt(\"python\")\n",
    "comments = subreddit.get_comments()"
   ]
  },
  {
   "cell_type": "code",
   "execution_count": 15,
   "metadata": {},
   "outputs": [
    {
     "data": {
      "text/plain": [
       "[\"I'm a cyclist who's been hit by two cars, both on smaller residential streets. This is legal but it isn't the safest. Figure out your own level of risk tolerance. \",\n",
       " 'Posts calling out specific users are so tacky. ',\n",
       " '[deleted]',\n",
       " 'In my experience the bicycle highways that are a few blocks off of those roads are more fun. I like being with the other bicyclists, and not being a general dickhead about where and how I ride. ',\n",
       " 'Would you rather be right or happy?']"
      ]
     },
     "execution_count": 15,
     "metadata": {},
     "output_type": "execute_result"
    }
   ],
   "source": [
    "c[:5]"
   ]
  },
  {
   "cell_type": "code",
   "execution_count": 11,
   "metadata": {},
   "outputs": [
    {
     "name": "stdout",
     "output_type": "stream",
     "text": [
      "I'm a cyclist who's been hit by two cars, both on smaller residential streets. This is legal but it isn't the safest. Figure out your own level of risk tolerance. \n",
      "Posts calling out specific users are so tacky. \n",
      "[deleted]\n",
      "In my experience the bicycle highways that are a few blocks off of those roads are more fun. I like being with the other bicyclists, and not being a general dickhead about where and how I ride. \n",
      "Would you rather be right or happy?\n",
      " /u/vulture_cabaret never mentioned that it was illegal so...\n",
      "It's legal, but I'd ride the sidewalk on those streets out of a sense of self-preservation alone.\n",
      "It's legal to ride everywhere in Portland pretty much. It's also legal to ride on the sidewalk everywhere but downtown. It's also legal to punch yourself in the face. \n",
      "PSA it is legal for cars to drive down Clinton, Lincoln, Salmon, Ankeny\n",
      "Legal != good idea\n",
      "if only cyclist distinguished between legal and smart/safe.\n",
      "[deleted]\n",
      "I wish they’d make it illegal to make shitposts like this \n",
      "I know it's legal. There's nothing like driving 10+ miles under the speed limit behind a bike who won't even do you the courtesy of getting out of the way for a second so you can get where you need to go.\n",
      "Yes\n",
      "I KNOW! jesus. I was just passing flyers out to people riding about how its legal to not use a helmet. happy to see there other bright individuals spreading the truth.. \n",
      "It may be legal, but it's still fucking stupid.\n",
      "I'm not one to victim blame BUT if you ride a bike on a super heavily traffic filled road, you deserve no sympathy when you get inevitably injured. Especially since the city has spent millions to give you dedicated and vehicle reduced bike lines a couple blocks over.\n",
      "Could you cite a rule relating to this?\n",
      "Thankyew.\n",
      "\"The morgue is filled with people who had the right of way\"\n",
      "Hnnggg. The shade emanating from this post makes me all tingly and happy. \n",
      "Cyclists write the laws , so yes\n",
      "it is tho\n",
      "Gotta be right. \n",
      "People riding bikes put themselves at risk.\n",
      "\n",
      "People driving cars put themselves and other people at risk.\n",
      "\n",
      "Both are legal. Neither is \"safe.\" One creates more danger than the other. \n",
      "Greenways ftw!\n",
      "Calling them bike highways? You must not bike much. Hopefully when you drive you aren't a general dickhead about where and how other people ride.\n",
      "They are not mutually exclusive.\n",
      "It's not illegal. But that doesn't make it not dumb. \n",
      "Also totally legal to crank one out even if you're not really feeling it.\n",
      "TIL\n",
      "I've seen people riding their bikes on 84 while cars are passing them at 75mph.  And with all the debris on the shoulder too, talk about woefully unsafe.\n",
      "> I'm not one to victim blame BUT I lied, I am one to victim blame\n",
      "\n",
      "FTFY\n",
      "this is wrong and you should feel bad.  \n",
      "Victim-blaming is lazy and based in a might-makes-right philosophy that is morally bankrupt.\n",
      "this is laughable.\n",
      "Proof? \n",
      "And yet you can lose your drivers’ license for unlawfully operating a bicycle.\n",
      "Well, I commute to and from work by bike, so I will call them whatever I want. Greenway is a term that was aready taken by the strips of green land that frequently ran behind housing developments. \n",
      "\n",
      "PS: Total dickhead when I drive. \n",
      "Everything that anybody does is dumb if it slows me down when I'm in a car!\n",
      "I biked from Hood River to Marine Drive yesterday on 84. It's really not that bad. Most of the shoulder is over five feet wide. There was a slow down when I was going faster than the cars for about five miles. One kid in the front seat was recording me as I passed by\n",
      "[Proof](https://blumenauer.house.gov/congressional-bike-caucus)\n",
      "Jokes on you, I don't drive a car!\n"
     ]
    }
   ],
   "source": [
    "submission.comments.replace_more(limit=0)\n",
    "for comment in submission.comments.list():\n",
    "    print(comment.body)"
   ]
  },
  {
   "cell_type": "code",
   "execution_count": 79,
   "metadata": {},
   "outputs": [
    {
     "name": "stdout",
     "output_type": "stream",
     "text": [
      "Hey /r/all.  We know you're coming, so please read the [rules](https://www.reddit.com/r/StarWars/wiki/rules).\n",
      "\n",
      "#[YOUTUBE LINK](https://www.youtube.com/watch?v=Q0CbN8sfihY)\n",
      "\n",
      "#[No Spoilers Thread](https://www.reddit.com/r/StarWars/comments/75e0e1/for_those_who_dont_want_spoilers_is_it_okay_to/)\n",
      "\n",
      "\n",
      "\"How do we gracefully write Carrier Fisher out of the franchise?\"\n",
      "\n",
      "\"Proton torpedo ought to do the trick.\"\n",
      "\n",
      "\n",
      "It looks beautiful..\n",
      "\n",
      "\n",
      "I expect there was MAJOR misdirections in that trailer. \n",
      "\n",
      "\n",
      "First look at Snoke in person and he looks mighty creepy\n",
      "\n",
      "\n",
      "I suspect the level of misdirection in this trailer is higher than Anakin's midichlorian count\n",
      "\n",
      "\n",
      "So when Rey says \"I need someone to show me my place in all this\", I'm pretty sure she's talking to Luke, on Ach-to.\n",
      "\n",
      "However, I'm also pretty sure that when Kylo extends his hand, he's facing Rey. \n",
      "\n",
      "This is very exciting.\n",
      "\n",
      "\n",
      "Captain Phasma not useless confirmed!\n",
      "\n",
      "\n",
      "KYLO STOP KILLING YOUR PARENTS YOU UNGRATEFUL LITTLE SHIT \n",
      "\n",
      "\n",
      "\"This is not going to go the way you think.\"\n",
      "\n",
      " I hope you're telling the truth, Luke.\n",
      "\n",
      "Sidenote, I bet that last line was what Mark and Rian didn't want everyone to hear.\n",
      "\n",
      "\n"
     ]
    }
   ],
   "source": [
    "for i in range(10):\n",
    "    print (comment[i])\n",
    "    print('\\n')"
   ]
  },
  {
   "cell_type": "code",
   "execution_count": 75,
   "metadata": {},
   "outputs": [
    {
     "data": {
      "text/plain": [
       "22"
      ]
     },
     "execution_count": 75,
     "metadata": {},
     "output_type": "execute_result"
    }
   ],
   "source": [
    "len(comment)"
   ]
  },
  {
   "cell_type": "code",
   "execution_count": null,
   "metadata": {
    "collapsed": true
   },
   "outputs": [],
   "source": [
    "75dxvp"
   ]
  },
  {
   "cell_type": "code",
   "execution_count": null,
   "metadata": {
    "collapsed": true
   },
   "outputs": [],
   "source": []
  },
  {
   "cell_type": "code",
   "execution_count": 83,
   "metadata": {},
   "outputs": [
    {
     "name": "stdout",
     "output_type": "stream",
     "text": [
      "[\"Hey /r/all.  We know you're coming, so please read the [rules](https://www.reddit.com/r/StarWars/wiki/rules).\\n\\n#[YOUTUBE LINK](https://www.youtube.com/watch?v=Q0CbN8sfihY)\\n\\n#[No Spoilers Thread](https://www.reddit.com/r/StarWars/comments/75e0e1/for_those_who_dont_want_spoilers_is_it_okay_to/)\", '\"How do we gracefully write Carrier Fisher out of the franchise?\"\\n\\n\"Proton torpedo ought to do the trick.\"', 'It looks beautiful..', 'I expect there was MAJOR misdirections in that trailer. ', 'First look at Snoke in person and he looks mighty creepy']\n",
      "83\n"
     ]
    }
   ],
   "source": [
    "import praw\n",
    "\n",
    "#this is a read-only instance\n",
    "reddit = praw.Reddit(user_agent='first_scrape (by /u/dswald)',\n",
    "                     client_id='TyAK1zSuAvQjmA', \n",
    "                     client_secret=\"uxHGsL0zNODbowN6umVnBWpqLAQ\")\n",
    "\n",
    "# Access to https://www.reddit.com/r/Portland/comments/75bi8h/psa_it_is_legal_for_bicyclist_to_ride_down/\n",
    "submission = reddit.submission(id='75dxvp')\n",
    "submission.comments.replace_more(limit=0) #read all comments\n",
    "comment = [] #list origination\n",
    "for top_level_comment in submission.comments:\n",
    "    comment.append(top_level_comment.body)\n",
    "    \n",
    "print (comment[:5])\n",
    "print (len(submission.comments))\n"
   ]
  },
  {
   "cell_type": "code",
   "execution_count": 81,
   "metadata": {},
   "outputs": [
    {
     "data": {
      "text/plain": [
       "83"
      ]
     },
     "execution_count": 81,
     "metadata": {},
     "output_type": "execute_result"
    }
   ],
   "source": [
    "len(comment)"
   ]
  },
  {
   "cell_type": "code",
   "execution_count": null,
   "metadata": {
    "collapsed": true
   },
   "outputs": [],
   "source": []
  }
 ],
 "metadata": {
  "kernelspec": {
   "display_name": "Python [conda root]",
   "language": "python",
   "name": "conda-root-py"
  },
  "language_info": {
   "codemirror_mode": {
    "name": "ipython",
    "version": 3
   },
   "file_extension": ".py",
   "mimetype": "text/x-python",
   "name": "python",
   "nbconvert_exporter": "python",
   "pygments_lexer": "ipython3",
   "version": "3.5.3"
  }
 },
 "nbformat": 4,
 "nbformat_minor": 2
}
